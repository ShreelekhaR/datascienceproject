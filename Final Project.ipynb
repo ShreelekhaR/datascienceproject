{
 "cells": [
  {
   "cell_type": "code",
   "execution_count": null,
   "metadata": {},
   "outputs": [],
   "source": [
    "import pandas as pd\n",
    "import matplotlib.pylab as plt\n",
    "import seaborn as sns\n",
    "import numpy as np"
   ]
  },
  {
   "cell_type": "code",
   "execution_count": null,
   "metadata": {},
   "outputs": [],
   "source": [
    "wine_table = pd.read_csv('winemag-data_first150k.csv')\n",
    "pd.set_option(\"max_columns\", None)\n",
    "pd.set_option(\"max_rows\", None)\n",
    "wine_table.head()\n"
   ]
  },
  {
   "cell_type": "markdown",
   "metadata": {},
   "source": [
    "## Creating numerical points for non-numerical data"
   ]
  },
  {
   "cell_type": "code",
   "execution_count": 90,
   "metadata": {},
   "outputs": [
    {
     "name": "stdout",
     "output_type": "stream",
     "text": [
      "Variety:\n",
      "['Vernaccia', 'Pied de Perdrix', 'Tempranillo-Cabernet Sauvignon', 'Antão Vaz', 'Sangiovese Cabernet', 'Gelber Traminer', 'Sauvignon Blanc-Verdejo', 'Prié Blanc', 'Merlot-Malbec', 'Catalanesca', 'Teran', 'Auxerrois', 'Gamay Noir', 'Pinot Bianco', 'Portuguese Red', 'Cortese', 'Macabeo-Chardonnay', 'Zweigelt', 'Okuzgozu', 'Tokay', 'Claret', \"Cesanese d'Affile\", 'Cabernet Franc-Merlot', 'Roter Traminer', 'Gros Manseng', 'Negroamaro', 'Trepat', 'Roussanne-Grenache Blanc', 'Romorantin', 'Vidadillo', 'Alvarinho-Chardonnay', 'Pansa Blanca', 'Pinot Blanc-Pinot Noir', 'Rhône-style Red Blend', 'Syrah-Carignan', 'Petite Syrah', 'Pinot Blanc', 'Shiraz-Viognier', 'Monastrell-Syrah', 'Enantio', 'Fer Servadou', 'Gragnano', 'Petit Meslier', 'Syrah-Petite Sirah', 'Morillon', 'Malvasia-Viura', 'Malvar', 'Charbono', 'Ciliegiolo', 'Silvaner']\n"
     ]
    }
   ],
   "source": [
    "# Finding unique varieties of wine in data \n",
    "\n",
    "print('Variety:')\n",
    "\n",
    "varieties = list(set(wine_table['variety'].to_list()))\n",
    "wine_table['variety'].sort_values().unique()\n",
    "\n",
    "\n",
    "# Displaying a sample of varieties\n",
    "print(varieties[0:50])\n"
   ]
  },
  {
   "cell_type": "code",
   "execution_count": 91,
   "metadata": {},
   "outputs": [
    {
     "name": "stdout",
     "output_type": "stream",
     "text": [
      "304\n"
     ]
    }
   ],
   "source": [
    "# We will be using the index number from this set to act as the unique number identifier for each variety\n",
    "\n",
    "print(varieties.index('Malbec'))"
   ]
  },
  {
   "cell_type": "markdown",
   "metadata": {},
   "source": [
    "## Creating a 3-d point to represent a specific wine\n",
    "\n",
    "Here in the data frame below, one can see two Malbec wines with very similar points and prices, our goal is to be able to find the most similar wine to our search wine as possible.\n",
    "\n",
    "First we need to create an (x,y,z) coordinate to represent the (variety,price,points)"
   ]
  },
  {
   "cell_type": "code",
   "execution_count": 84,
   "metadata": {},
   "outputs": [
    {
     "name": "stdout",
     "output_type": "stream",
     "text": [
      "Malbec:\n",
      "['Malbec']\n"
     ]
    },
    {
     "data": {
      "text/html": [
       "<div>\n",
       "<style scoped>\n",
       "    .dataframe tbody tr th:only-of-type {\n",
       "        vertical-align: middle;\n",
       "    }\n",
       "\n",
       "    .dataframe tbody tr th {\n",
       "        vertical-align: top;\n",
       "    }\n",
       "\n",
       "    .dataframe thead th {\n",
       "        text-align: right;\n",
       "    }\n",
       "</style>\n",
       "<table border=\"1\" class=\"dataframe\">\n",
       "  <thead>\n",
       "    <tr style=\"text-align: right;\">\n",
       "      <th></th>\n",
       "      <th>Unnamed: 0</th>\n",
       "      <th>country</th>\n",
       "      <th>description</th>\n",
       "      <th>designation</th>\n",
       "      <th>points</th>\n",
       "      <th>price</th>\n",
       "      <th>province</th>\n",
       "      <th>region_1</th>\n",
       "      <th>region_2</th>\n",
       "      <th>variety</th>\n",
       "      <th>winery</th>\n",
       "    </tr>\n",
       "  </thead>\n",
       "  <tbody>\n",
       "    <tr>\n",
       "      <th>18</th>\n",
       "      <td>18</td>\n",
       "      <td>France</td>\n",
       "      <td>Coming from a seven-acre vineyard named after ...</td>\n",
       "      <td>Le Pigeonnier</td>\n",
       "      <td>95</td>\n",
       "      <td>290.0</td>\n",
       "      <td>Southwest France</td>\n",
       "      <td>Cahors</td>\n",
       "      <td>NaN</td>\n",
       "      <td>Malbec</td>\n",
       "      <td>Château Lagrézette</td>\n",
       "    </tr>\n",
       "    <tr>\n",
       "      <th>60</th>\n",
       "      <td>60</td>\n",
       "      <td>Argentina</td>\n",
       "      <td>Concentrated, ripe blackberry and cassis aroma...</td>\n",
       "      <td>The Apple Doesn't Fall Far From The Tree</td>\n",
       "      <td>91</td>\n",
       "      <td>30.0</td>\n",
       "      <td>Mendoza Province</td>\n",
       "      <td>Mendoza</td>\n",
       "      <td>NaN</td>\n",
       "      <td>Malbec</td>\n",
       "      <td>Matias Riccitelli</td>\n",
       "    </tr>\n",
       "    <tr>\n",
       "      <th>62</th>\n",
       "      <td>62</td>\n",
       "      <td>Argentina</td>\n",
       "      <td>Smoky aromas of fresh-cut wood blend with berr...</td>\n",
       "      <td>Alegoría Gran Reserva</td>\n",
       "      <td>91</td>\n",
       "      <td>25.0</td>\n",
       "      <td>Mendoza Province</td>\n",
       "      <td>Mendoza</td>\n",
       "      <td>NaN</td>\n",
       "      <td>Malbec</td>\n",
       "      <td>Navarro Correas</td>\n",
       "    </tr>\n",
       "    <tr>\n",
       "      <th>115</th>\n",
       "      <td>115</td>\n",
       "      <td>Argentina</td>\n",
       "      <td>Aromas of prune, raisin and black plum are ful...</td>\n",
       "      <td>Reserva</td>\n",
       "      <td>86</td>\n",
       "      <td>15.0</td>\n",
       "      <td>Mendoza Province</td>\n",
       "      <td>Valle de Uco</td>\n",
       "      <td>NaN</td>\n",
       "      <td>Malbec</td>\n",
       "      <td>Viñalba</td>\n",
       "    </tr>\n",
       "    <tr>\n",
       "      <th>190</th>\n",
       "      <td>190</td>\n",
       "      <td>Argentina</td>\n",
       "      <td>Dark-berry aromas are crisp and show a note of...</td>\n",
       "      <td>Reserve</td>\n",
       "      <td>87</td>\n",
       "      <td>15.0</td>\n",
       "      <td>Mendoza Province</td>\n",
       "      <td>Tupungato</td>\n",
       "      <td>NaN</td>\n",
       "      <td>Malbec</td>\n",
       "      <td>Tupun</td>\n",
       "    </tr>\n",
       "  </tbody>\n",
       "</table>\n",
       "</div>"
      ],
      "text/plain": [
       "     Unnamed: 0    country                                        description  \\\n",
       "18           18     France  Coming from a seven-acre vineyard named after ...   \n",
       "60           60  Argentina  Concentrated, ripe blackberry and cassis aroma...   \n",
       "62           62  Argentina  Smoky aromas of fresh-cut wood blend with berr...   \n",
       "115         115  Argentina  Aromas of prune, raisin and black plum are ful...   \n",
       "190         190  Argentina  Dark-berry aromas are crisp and show a note of...   \n",
       "\n",
       "                                  designation  points  price  \\\n",
       "18                              Le Pigeonnier      95  290.0   \n",
       "60   The Apple Doesn't Fall Far From The Tree      91   30.0   \n",
       "62                      Alegoría Gran Reserva      91   25.0   \n",
       "115                                   Reserva      86   15.0   \n",
       "190                                   Reserve      87   15.0   \n",
       "\n",
       "             province      region_1 region_2 variety              winery  \n",
       "18   Southwest France        Cahors      NaN  Malbec  Château Lagrézette  \n",
       "60   Mendoza Province       Mendoza      NaN  Malbec   Matias Riccitelli  \n",
       "62   Mendoza Province       Mendoza      NaN  Malbec     Navarro Correas  \n",
       "115  Mendoza Province  Valle de Uco      NaN  Malbec             Viñalba  \n",
       "190  Mendoza Province     Tupungato      NaN  Malbec               Tupun  "
      ]
     },
     "execution_count": 84,
     "metadata": {},
     "output_type": "execute_result"
    }
   ],
   "source": [
    "# Given a specific wine, we want to be able to predict the wine closest or most similar to the specified wine based on variety, price and score\n",
    "\n",
    "is_Malbec =  wine_table['variety']=='Malbec'\n",
    "malbec_table = wine_table[is_Malbec]\n",
    "\n",
    "# Checking to see that filter worked\n",
    "print('Malbec:')\n",
    "print(malbec_table['variety'].sort_values().unique())\n",
    "malbec_table.head()\n",
    "\n"
   ]
  },
  {
   "cell_type": "code",
   "execution_count": 139,
   "metadata": {},
   "outputs": [
    {
     "name": "stdout",
     "output_type": "stream",
     "text": [
      "Unnamed: 0                                                   115\n",
      "country                                                Argentina\n",
      "description    Aromas of prune, raisin and black plum are ful...\n",
      "designation                                              Reserva\n",
      "points                                                        86\n",
      "price                                                         15\n",
      "province                                        Mendoza Province\n",
      "region_1                                            Valle de Uco\n",
      "region_2                                                     NaN\n",
      "variety                                                   Malbec\n",
      "winery                                                   Viñalba\n",
      "Name: 115, dtype: object\n",
      "===================================\n",
      "Malbec\n",
      "304\n",
      "15\n",
      "86\n",
      "===================================\n",
      "search element:\n",
      "[304  15  86]\n"
     ]
    }
   ],
   "source": [
    "# Creating points from wine rows to find euclidean distance\n",
    "# Taking the example of an under 20 dollar bottle of Malbec (This corresponds to row 115 in the data set)\n",
    "wine = wine_table.loc[115]\n",
    "print(wine)\n",
    "print(\"===================================\")\n",
    "print(wine['variety'])\n",
    "print(varieties.index(wine['variety']))\n",
    "print(int(wine['price']))\n",
    "print(wine['points'])\n",
    "print(\"===================================\")\n",
    "\n",
    "variety_id = varieties.index(wine['variety'])\n",
    "\n",
    "# intializing point for search wine\n",
    "search  = np.array(((varieties.index(wine['variety'])), (int(wine['price'])), (wine['points']))) \n",
    "\n",
    "print(\"search element:\")\n",
    "print(search)"
   ]
  },
  {
   "cell_type": "markdown",
   "metadata": {},
   "source": [
    "# Calculating Similarity\n",
    "\n",
    "Here we use the Euclidean distance between our search wine and any other wine to see which one is the most similar.\n",
    "As you can see, from the two wines below, a wine of the same variety and similar price  and points will have a much smaller \"distance\" from our search wine than that of a wine of different variety, and less similar price and points\n",
    "\n",
    "A more basic example using simple integers can be found at: https://www.w3resource.com/python-exercises/math/python-math-exercise-79.php"
   ]
  },
  {
   "cell_type": "code",
   "execution_count": 138,
   "metadata": {},
   "outputs": [
    {
     "name": "stdout",
     "output_type": "stream",
     "text": [
      "first random wine: \n",
      "Unnamed: 0                                                    86\n",
      "country                                                   France\n",
      "description    This delicious, refreshing wine is textured, t...\n",
      "designation                                Montmains Premier Cru\n",
      "points                                                        91\n",
      "price                                                         45\n",
      "province                                                Burgundy\n",
      "region_1                                                 Chablis\n",
      "region_2                                                     NaN\n",
      "variety                                               Chardonnay\n",
      "winery                                  Domaine Gérard Duplessis\n",
      "Name: 86, dtype: object\n",
      "\n",
      "first random wine point: \n",
      "[265  45  91]\n",
      "====================================================================================\n",
      "second random wine: \n",
      "Unnamed: 0                                                   190\n",
      "country                                                Argentina\n",
      "description    Dark-berry aromas are crisp and show a note of...\n",
      "designation                                              Reserve\n",
      "points                                                        87\n",
      "price                                                         15\n",
      "province                                        Mendoza Province\n",
      "region_1                                               Tupungato\n",
      "region_2                                                     NaN\n",
      "variety                                                   Malbec\n",
      "winery                                                     Tupun\n",
      "Name: 190, dtype: object\n",
      "\n",
      "second random wine point: \n",
      "[304  15  87]\n",
      "====================================================================================\n",
      "\n",
      "search element:\n",
      "[304  15  86]\n",
      "====================================================================================\n",
      "\n",
      "Difference between first random wine and our wine\n",
      "49.457052075512955\n",
      "\n",
      "Difference between second random wine and our wine\n",
      "1.0\n"
     ]
    }
   ],
   "source": [
    "# Calculating Euclidean distance for two random wines\n",
    "\n",
    "elem1 = wine_table.loc[86]\n",
    "print(\"first random wine: \")\n",
    "print(elem1)\n",
    "element1 = np.array(((varieties.index(elem1['variety'])), (int(elem1['price'])), (elem1['points'])))\n",
    "print(\"\")\n",
    "print(\"first random wine point: \")\n",
    "print(element1)\n",
    "print(\"====================================================================================\")\n",
    "\n",
    "\n",
    "elem2 = wine_table.loc[190]\n",
    "print(\"second random wine: \")\n",
    "print(elem2)\n",
    "element2 = np.array(((varieties.index(elem2['variety'])), (int(elem2['price'])), (elem2['points'])))\n",
    "print(\"\")\n",
    "print(\"second random wine point: \")\n",
    "print(element2)\n",
    "print(\"====================================================================================\")\n",
    "print(\"\")\n",
    "\n",
    "print(\"search element:\")\n",
    "print(search)\n",
    "print(\"====================================================================================\")\n",
    "\n",
    "# printing Euclidean distance \n",
    "print(\"\")\n",
    "print(\"Difference between first random wine and our wine\")\n",
    "dist1 = np.linalg.norm(search - element1) \n",
    "print(dist1)\n",
    "print(\"\")\n",
    "print(\"Difference between second random wine and our wine\")\n",
    "dist2 = np.linalg.norm(search - element2) \n",
    "print(dist2)"
   ]
  },
  {
   "cell_type": "markdown",
   "metadata": {},
   "source": [
    "Here we see the difference between wines, using this we can find the wine with the smallest difference from our search wine, not including itself"
   ]
  },
  {
   "cell_type": "code",
   "execution_count": 137,
   "metadata": {},
   "outputs": [
    {
     "name": "stdout",
     "output_type": "stream",
     "text": [
      "Search Element:\n",
      "\n",
      "Malbec\n",
      "304\n",
      "15\n",
      "86\n",
      "\n",
      "[304  15  86]\n",
      "\n",
      "====================================================================================\n",
      "Total number of Wines:\n",
      "150930\n",
      "\n",
      "Total number of Malbec wines:\n",
      "3208\n"
     ]
    }
   ],
   "source": [
    "# looping through data-frame to find most similar wine and recording the wine with the smallest difference\n",
    "\n",
    "print(\"Search Element:\")\n",
    "print(\"\")\n",
    "print(wine['variety'])\n",
    "print(varieties.index(wine['variety']))\n",
    "print(int(wine['price']))\n",
    "print(wine['points'])\n",
    "print(\"\")\n",
    "print(search)\n",
    "print(\"\")\n",
    "print(\"====================================================================================\")\n",
    "\n",
    "\n",
    "\n",
    "print(\"Total number of Wines:\")\n",
    "print(len(wine_table.index))\n",
    "\n",
    "print(\"\")\n",
    "# For the sake of saving calculation time and space I will be running the distance algorithm on a filtered set of wines\n",
    "# This set is the set of wines of the same variety\n",
    "print(\"Total number of Malbec wines:\")\n",
    "print(len(malbec_table.index))\n"
   ]
  },
  {
   "cell_type": "code",
   "execution_count": 133,
   "metadata": {},
   "outputs": [
    {
     "name": "stdout",
     "output_type": "stream",
     "text": [
      "Wine most similar to our input row is:\n",
      "Unnamed: 0                                                  8500\n",
      "country                                                       US\n",
      "description    The generous fruit flavors in this medium-bodi...\n",
      "designation                              The Heritage Collection\n",
      "points                                                        86\n",
      "price                                                         14\n",
      "province                                              California\n",
      "region_1                                                    Lodi\n",
      "region_2                                          Central Valley\n",
      "variety                                                   Malbec\n",
      "winery                                                   Peirano\n",
      "Name: 8500, dtype: object\n"
     ]
    }
   ],
   "source": [
    "\n",
    "\n",
    "# Here we could have used the entire table but for the sake of the tutorial and calculation time we will use the filered table\n",
    "def findSimilar():\n",
    "    min_row = 0\n",
    "    min_dist = 100.0\n",
    "    \n",
    "    for x in malbec_table.dropna().index:\n",
    "        elem = wine_table.loc[x]\n",
    "        point = np.array(((varieties.index(elem['variety'])), (int(elem['price'])), (elem['points'])))\n",
    "        dist = np.linalg.norm(search - point) \n",
    "        if dist < min_dist and dist > 0:\n",
    "            min_dist = dist\n",
    "            min_row = x\n",
    "            \n",
    "    return min_row\n",
    "##\n",
    "similar = findSimilar()\n",
    "\n",
    "print(\"Wine most similar to our input row is:\")\n",
    "most_sim = wine_table.loc[similar]\n",
    "print(wine_table.loc[similar])\n"
   ]
  },
  {
   "cell_type": "code",
   "execution_count": 140,
   "metadata": {},
   "outputs": [
    {
     "name": "stdout",
     "output_type": "stream",
     "text": [
      "Search Wine:\n",
      "\n",
      "Malbec\n",
      "15\n",
      "86\n",
      "\n",
      "Unnamed: 0                                                   115\n",
      "country                                                Argentina\n",
      "description    Aromas of prune, raisin and black plum are ful...\n",
      "designation                                              Reserva\n",
      "points                                                        86\n",
      "price                                                         15\n",
      "province                                        Mendoza Province\n",
      "region_1                                            Valle de Uco\n",
      "region_2                                                     NaN\n",
      "variety                                                   Malbec\n",
      "winery                                                   Viñalba\n",
      "Name: 115, dtype: object\n",
      "______________________________\n",
      "Most Similar Wine:\n",
      "\n",
      "Malbec\n",
      "14\n",
      "86\n",
      "\n",
      "Unnamed: 0                                                  8500\n",
      "country                                                       US\n",
      "description    The generous fruit flavors in this medium-bodi...\n",
      "designation                              The Heritage Collection\n",
      "points                                                        86\n",
      "price                                                         14\n",
      "province                                              California\n",
      "region_1                                                    Lodi\n",
      "region_2                                          Central Valley\n",
      "variety                                                   Malbec\n",
      "winery                                                   Peirano\n",
      "Name: 8500, dtype: object\n",
      "\n"
     ]
    }
   ],
   "source": [
    "print(\"Search Wine:\")\n",
    "print(\"\")\n",
    "print(wine['variety'])\n",
    "print(int(wine['price']))\n",
    "print(wine['points'])\n",
    "print(\"\")\n",
    "print(wine)\n",
    "print(\"______________________________\")\n",
    "print(\"Most Similar Wine:\")\n",
    "print(\"\")\n",
    "print(most_sim['variety'])\n",
    "print(int(most_sim['price']))\n",
    "print(most_sim['points'])\n",
    "print(\"\")\n",
    "print(most_sim)\n",
    "print(\"\")"
   ]
  },
  {
   "cell_type": "code",
   "execution_count": null,
   "metadata": {},
   "outputs": [],
   "source": []
  }
 ],
 "metadata": {
  "kernelspec": {
   "display_name": "Python 3",
   "language": "python",
   "name": "python3"
  },
  "language_info": {
   "codemirror_mode": {
    "name": "ipython",
    "version": 3
   },
   "file_extension": ".py",
   "mimetype": "text/x-python",
   "name": "python",
   "nbconvert_exporter": "python",
   "pygments_lexer": "ipython3",
   "version": "3.8.5"
  }
 },
 "nbformat": 4,
 "nbformat_minor": 4
}
